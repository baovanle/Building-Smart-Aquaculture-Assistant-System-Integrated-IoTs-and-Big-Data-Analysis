{
 "cells": [
  {
   "cell_type": "code",
   "execution_count": 10,
   "id": "502634c5-0072-4deb-809d-64097c602743",
   "metadata": {},
   "outputs": [
    {
     "name": "stdout",
     "output_type": "stream",
     "text": [
      "            date_and_time  temperature_c    ph  turbidity_ntu\n",
      "0     2020-01-15 16:00:35          20.99  7.81            197\n",
      "1     2020-01-15 16:01:33          20.99  7.81            197\n",
      "2     2020-01-15 16:02:33          20.98  7.81            197\n",
      "3     2020-01-15 16:03:22          20.98  7.81            197\n",
      "4     2020-01-15 16:04:26          20.98  7.81            197\n",
      "...                   ...            ...   ...            ...\n",
      "9618  2020-01-22 16:21:01          21.32  7.49            212\n",
      "9619  2020-01-22 16:22:09          21.32  7.49            212\n",
      "9620  2020-01-22 16:23:16          21.34  7.49            212\n",
      "9621  2020-01-22 16:24:23          21.34  7.50            212\n",
      "9622  2020-01-22 16:25:32          21.31  7.51            212\n",
      "\n",
      "[9623 rows x 4 columns]\n"
     ]
    }
   ],
   "source": [
    "import pandas as pd\n",
    "from configparser import ConfigParser\n",
    "import psycopg2\n",
    "from pytz import timezone\n",
    "from datetime import datetime\n",
    "\n",
    "def config(filename='config.ini', section='aiaqua'):\n",
    "    # create a parser\n",
    "    parser = ConfigParser()\n",
    "    # read config file\n",
    "    parser.read(filename)\n",
    "    # print(Path(os.path.dirname(os.path.realpath(__file__)) + '/' + filename))\n",
    "    # get section, default to postgresql\n",
    "    db = {}\n",
    "    if parser.has_section(section):\n",
    "        params = parser.items(section)\n",
    "        for param in params:\n",
    "            db[param[0]] = param[1]\n",
    "    else:\n",
    "        raise Exception(\n",
    "            'Section {0} not found in the {1} file'.format(section, filename))\n",
    "    return db\n",
    "\n",
    "params = config()\n",
    "conn = psycopg2.connect(**params)\n",
    "cursor = conn.cursor()    \n",
    "\n",
    "tz = timezone('Asia/Ho_chi_Minh')\n",
    "loc_dt = tz.localize(datetime.now())\n",
    "created_date = loc_dt.strftime(\"%Y-%m-%d %H:%M:%S\")\n",
    "snapshot_date = loc_dt.strftime(\"%Y-%m-%d\")\n",
    "\n",
    "df = pd.read_excel('Sensor data for 30 cm.xlsx')\n",
    "df.columns = ['date_and_time','temperature_c','ph','turbidity_ntu']\n",
    "columns = df.columns\n",
    "\n",
    "tmp_df = '/home/ailab/AIFace/AIAquaKMOU/backend/tmp/temp-{}.csv'.format(str(datetime.now().strftime(\"%Y%m%d%H%M%S%f\")))\n",
    "df.to_csv(tmp_df, index=False, header=True)\n",
    "sql_copy = \"\"\"\n",
    "    COPY %s(%s) \n",
    "    FROM '%s' DELIMITER ',' CSV HEADER encoding 'utf-8'; \n",
    "\"\"\"% ('sensor_data',','.join(columns), tmp_df)\n",
    "\n",
    "cursor.execute(sql_copy)\n",
    "conn.commit()   \n",
    "\n",
    "cursor.close()  \n",
    "\n",
    "print(df)"
   ]
  }
 ],
 "metadata": {
  "kernelspec": {
   "display_name": "chatgpt_env",
   "language": "python",
   "name": "chatgpt_env"
  },
  "language_info": {
   "codemirror_mode": {
    "name": "ipython",
    "version": 3
   },
   "file_extension": ".py",
   "mimetype": "text/x-python",
   "name": "python",
   "nbconvert_exporter": "python",
   "pygments_lexer": "ipython3",
   "version": "3.10.13"
  }
 },
 "nbformat": 4,
 "nbformat_minor": 5
}
